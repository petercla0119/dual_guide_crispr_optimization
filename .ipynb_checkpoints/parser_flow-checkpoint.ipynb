{
 "cells": [
  {
   "cell_type": "code",
   "id": "initial_id",
   "metadata": {
    "collapsed": true,
    "jupyter": {
     "is_executing": true
    }
   },
   "source": [
    "from graphviz import Digraph\n",
    "\n",
    "# Create a new directed graph\n",
    "flowchart = Digraph(comment='Parser v10')\n",
    "\n",
    "# Add nodes\n",
    "flowchart.node('A', 'Start')\n",
    "flowchart.node('B1', 'R1 fastq')\n",
    "flowchart.node('B2', 'R2 fastq')\n",
    "flowchart.node('C', 'add read_group col')\n",
    "flowchart.edge('B1', 'D')\n",
    "flowchart.edge('B2', 'D')\n",
    "flowchart.node('D', 'mk consensus read groups_df')\n",
    "\n",
    "flowchart.node('E', 'Compare corresponding \\n characters')\n",
    "flowchart.node('F', 'If characters differ, \\n increment counter')\n",
    "flowchart.node('G', 'After loop ends, \\n output the counter as Hamming distance')\n",
    "flowchart.node('H', 'End')\n",
    "\n",
    "# Add edges\n",
    "flowchart.edge('A', 'B')\n",
    "flowchart.edge('B', 'C')\n",
    "flowchart.edge('C', 'D')\n",
    "flowchart.edge('D', 'E')\n",
    "flowchart.edge('E', 'F')\n",
    "flowchart.edge('F', 'D')\n",
    "flowchart.edge('D', 'G', label='End of string')\n",
    "flowchart.edge('G', 'H')\n",
    "\n",
    "# Save the flowchart to a file and render it\n",
    "flowchart.render('Parser v10', format='png', cleanup=True)\n",
    "\n",
    "# Optional: Display the flowchart in a Jupyter notebook\n",
    "flowchart.view()\n"
   ],
   "outputs": [],
   "execution_count": null
  }
 ],
 "metadata": {
  "kernelspec": {
   "display_name": "Python 3",
   "language": "python",
   "name": "python3"
  },
  "language_info": {
   "codemirror_mode": {
    "name": "ipython",
    "version": 2
   },
   "file_extension": ".py",
   "mimetype": "text/x-python",
   "name": "python",
   "nbconvert_exporter": "python",
   "pygments_lexer": "ipython2",
   "version": "2.7.6"
  }
 },
 "nbformat": 4,
 "nbformat_minor": 5
}
